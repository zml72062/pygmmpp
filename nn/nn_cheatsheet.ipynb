{
 "cells": [
  {
   "attachments": {},
   "cell_type": "markdown",
   "metadata": {},
   "source": [
    "# Cheatsheet for GNN layers"
   ]
  },
  {
   "attachments": {},
   "cell_type": "markdown",
   "metadata": {},
   "source": [
    "## `GCNConv`"
   ]
  },
  {
   "attachments": {},
   "cell_type": "markdown",
   "metadata": {},
   "source": [
    "$$\\mathbf{x}_i \\leftarrow \\sum_{j\\in \\mathcal{N}(i)\\cup\\{i\\}}\\frac{1}{\\sqrt{\\deg(i)}\\sqrt{\\deg(j)}}(\\mathbf{W}^T \\mathbf{x}_j)+\\mathbf{b}$$"
   ]
  },
  {
   "attachments": {},
   "cell_type": "markdown",
   "metadata": {},
   "source": [
    "Trainable parameters: $\\mathbf{W}, \\mathbf{b}$"
   ]
  },
  {
   "attachments": {},
   "cell_type": "markdown",
   "metadata": {},
   "source": [
    "## `GINConv`"
   ]
  },
  {
   "attachments": {},
   "cell_type": "markdown",
   "metadata": {},
   "source": [
    "$$\\mathbf{x}_i \\leftarrow h_\\Theta\\left((1+\\epsilon) \\mathbf{x}_i+\\sum_{j\\in\\mathcal{N}(i)}\\mathbf{x}_j\\right)$$"
   ]
  },
  {
   "attachments": {},
   "cell_type": "markdown",
   "metadata": {},
   "source": [
    "Trainable parameters: $\\Theta,$ optionally $\\epsilon$"
   ]
  },
  {
   "attachments": {},
   "cell_type": "markdown",
   "metadata": {},
   "source": [
    "## `GINEConv`"
   ]
  },
  {
   "attachments": {},
   "cell_type": "markdown",
   "metadata": {},
   "source": [
    "$$\\mathbf{x}_i \\leftarrow h_\\Theta\\left((1+\\epsilon) \\mathbf{x}_i+\\sum_{j\\in\\mathcal{N}(i)}\\mathrm{ReLU}\\left(\\mathbf{x}_j+\\mathbf{e}_{j,i}\\right)\\right)$$"
   ]
  },
  {
   "attachments": {},
   "cell_type": "markdown",
   "metadata": {},
   "source": [
    "Trainable parameters: $\\Theta,$ optionally $\\epsilon$"
   ]
  }
 ],
 "metadata": {
  "language_info": {
   "name": "python"
  },
  "orig_nbformat": 4
 },
 "nbformat": 4,
 "nbformat_minor": 2
}
